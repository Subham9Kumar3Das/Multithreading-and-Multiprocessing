{
 "cells": [
  {
   "cell_type": "markdown",
   "id": "a78815b9-8a06-459e-aa1f-cd27d03637b4",
   "metadata": {},
   "source": [
    "1. Discuss the scenarios where multithreading is preferable to multiprocessing and scenarios where\n",
    "multiprocessing is a better choice.\n",
    "\n",
    "\n",
    "2. Describe what a process pool is and how it helps in managing multiple processes efficiently.\n",
    "\n",
    "\n",
    "3. Explain what multiprocessing is and why it is used in Python programs.\n",
    "\n",
    "\n",
    "4. Write a Python program using multithreading where one thread adds numbers to a list, and another\n",
    "thread removes numbers from the list. Implement a mechanism to avoid race conditions using\n",
    "threading.Lock.\n",
    "\n",
    "\n",
    "5. Describe the methods and tools available in Python for safely sharing data between threads and\n",
    "processes.\n",
    "\n",
    "\n",
    "6. Discuss why it’s crucial to handle exceptions in concurrent programs and the techniques available for\n",
    "doing so.\n",
    "\n",
    "\n",
    "7. Create a program that uses a thread pool to calculate the factorial of numbers from 1 to 10 concurrently.\n",
    "Use concurrent.futures.ThreadPoolExecutor to manage the threads.\n",
    "\n",
    "\n",
    "8. Create a Python program that uses multiprocessing.Pool to compute the square of numbers from 1 to 10 in\n",
    "parallel. Measure the time taken to perform this computation using a pool of different sizes (e.g., 2, 4, 8\n",
    "processes)."
   ]
  },
  {
   "cell_type": "markdown",
   "id": "cfbfba73-f735-4e66-afdc-8e29c89b1a32",
   "metadata": {},
   "source": [
    "1./\n",
    "Multithreading: Good for I/O bound task.\n",
    "Multiprocessing: Good for heavy computation."
   ]
  },
  {
   "cell_type": "markdown",
   "id": "323a36cb-044a-4f42-9cc4-4ba36ec92f0f",
   "metadata": {},
   "source": [
    "2./ A process pool manages a fixed number of worker process to reuse it multiple times to reduce overhead of creating new processes."
   ]
  },
  {
   "cell_type": "markdown",
   "id": "d522dfe2-3f99-4767-9e84-ce78bd559a16",
   "metadata": {},
   "source": [
    "3./ It allows multiple processes to run in parallel on different CPU cores."
   ]
  },
  {
   "cell_type": "code",
   "execution_count": 3,
   "id": "16180ec5-672e-4d9b-94f4-4eebd53f74bd",
   "metadata": {},
   "outputs": [
    {
     "name": "stdout",
     "output_type": "stream",
     "text": [
      "Added 0\n",
      "Added 1\n",
      "Added 2\n",
      "Added 3\n",
      "Added 4\n",
      "Removed 0\n",
      "Removed 1\n",
      "Removed 2\n",
      "Removed 3\n",
      "Removed 4\n",
      "Final list: []\n"
     ]
    }
   ],
   "source": [
    "#4.\n",
    "import threading\n",
    "\n",
    "my_list = []\n",
    "lock = threading.Lock()\n",
    "\n",
    "def add_numbers():\n",
    "    for i in range(5):\n",
    "        with lock:\n",
    "            my_list.append(i)\n",
    "            print(f\"Added {i}\")\n",
    "\n",
    "def remove_numbers():\n",
    "    for i in range(5):\n",
    "        with lock:\n",
    "            if my_list:\n",
    "                removed = my_list.pop(0)\n",
    "                print(f\"Removed {removed}\")\n",
    "\n",
    "thread1 = threading.Thread(target=add_numbers)\n",
    "thread2 = threading.Thread(target=remove_numbers)\n",
    "\n",
    "thread1.start()\n",
    "thread2.start()\n",
    "\n",
    "thread1.join()\n",
    "thread2.join()\n",
    "\n",
    "print(\"Final list:\", my_list)\n"
   ]
  },
  {
   "cell_type": "markdown",
   "id": "a9d15345-3781-4931-b318-a6681d76f06d",
   "metadata": {},
   "source": [
    "5/. threads:-Use for data sharing.\n",
    "\n",
    "   Processes:-Use for multiprocessing.queue for safe data sharing."
   ]
  },
  {
   "cell_type": "markdown",
   "id": "2b59a5b6-7998-4e9d-88e2-b8d94a9c352c",
   "metadata": {},
   "source": [
    "6./ Using try-except blocks in threads/processes.\n",
    "\n",
    "    Checking results and catching exceptions using concurrent.futures for pooled task."
   ]
  },
  {
   "cell_type": "code",
   "execution_count": null,
   "id": "f2e0a419-c130-48e0-bba7-15bfa822fc1e",
   "metadata": {},
   "outputs": [],
   "source": []
  }
 ],
 "metadata": {
  "kernelspec": {
   "display_name": "Python 3 (ipykernel)",
   "language": "python",
   "name": "python3"
  },
  "language_info": {
   "codemirror_mode": {
    "name": "ipython",
    "version": 3
   },
   "file_extension": ".py",
   "mimetype": "text/x-python",
   "name": "python",
   "nbconvert_exporter": "python",
   "pygments_lexer": "ipython3",
   "version": "3.10.8"
  }
 },
 "nbformat": 4,
 "nbformat_minor": 5
}
